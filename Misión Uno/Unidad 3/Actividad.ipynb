{
 "cells": [
  {
   "cell_type": "markdown",
   "metadata": {},
   "source": [
    "# Problema\n",
    "\n",
    "En una empreza de Aviación se desea conocer el precio de un tiquete áreo naciona. Para ello se define que el costo del voleto relaciona el combustible gastado y tiempo de vuelo. \n",
    "\n",
    "El Avión A320 consume un aproximado de  600 kg por hora de vuelo.\n",
    "\n",
    "- La distancia entre Pasto a Bogotá es de 850 km en un tiempo de 1 hora.\n",
    "- La distancia entre Pasto a Bogotá es de 1.355 km en un tiempo de 5 horas.\n",
    "\n",
    "1. Plantee las ecuaciones que representan las rutas Bogota a Pasto y Pasto a San Andrés.  \n",
    "2. Realice el producto Matriz resultante de las ecuaciones por el vector y grafique su resultado. \n",
    "\n",
    "vector = np.array([1, 2])\n",
    "\n",
    "3. Realice el producto Matriz resultante de las ecuaciones por el escalar y grafique su resultado. \n",
    "\n",
    "escalar = 3\n",
    "\n"
   ]
  },
  {
   "cell_type": "code",
   "execution_count": null,
   "metadata": {},
   "outputs": [],
   "source": [
    "import numpy as np\n",
    "import matplotlib.pyplot as plt\n",
    "\n",
    "\n",
    "\n",
    "\n",
    "\n",
    "\n",
    "\n",
    "# # Configurando el gráfico\n",
    "plt.figure(figsize=(6, 6))\n",
    "plt.quiver(0, 0, vector_a[0], vector_a[1], angles='xy', scale_units='xy', scale=1, color='r', label='Vector A')\n",
    "plt.quiver(0, 0, vector_b[0], vector_b[1], angles='xy', scale_units='xy', scale=1, color='y', label='Vector B')\n",
    "plt.quiver(0, 0, suma[0], suma[1], angles='xy', scale_units='xy', scale=1, color='g', label='Suma A+B')\n",
    "plt.xlim(-1, 6)\n",
    "plt.ylim(-1, 6)\n",
    "plt.gca().set_aspect('equal', adjustable='box')\n",
    "plt.legend()\n",
    "plt.title('Suma de Vectores')\n",
    "plt.grid(True)\n",
    "#plt.show()"
   ]
  }
 ],
 "metadata": {
  "language_info": {
   "name": "python"
  }
 },
 "nbformat": 4,
 "nbformat_minor": 2
}
