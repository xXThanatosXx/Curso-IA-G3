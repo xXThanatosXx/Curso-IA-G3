{
 "cells": [
  {
   "cell_type": "markdown",
   "metadata": {},
   "source": [
    "# Problema\n",
    "\n",
    "En una empresa de Aviación se desea conocer el precio de un tiquete aéreo nacional. Para ello se define que el costo del boleto relaciona el combustible gastado y tiempo de vuelo. \n",
    "\n",
    "El Avión A320 consume un aproximado de  600 kg por hora de vuelo.\n",
    "\n",
    "- La distancia entre Pasto a Bogotá es de 850 km en un tiempo de 1 hora.\n",
    "- La distancia entre Pasto a San Andrés Islas es de 1.355 km en un tiempo de 5 horas.\n",
    "\n",
    "1. Plantear las ecuaciones que representan las rutas Bogotá a Pasto y Pasto a San Andrés.  \n",
    "2. Realice el producto Matriz resultante de las ecuaciones por el vector y grafique su resultado. \n",
    "\n",
    "vector = np.array([1, 2])\n",
    "\n",
    "3. Realice el producto Matriz resultante de las ecuaciones por el escalar y grafique su resultado. \n",
    "\n",
    "escalar = 3\n",
    "\n"
   ]
  },
  {
   "cell_type": "markdown",
   "metadata": {},
   "source": [
    "## Solución\n",
    "\n"
   ]
  },
  {
   "cell_type": "code",
   "execution_count": 14,
   "metadata": {},
   "outputs": [
    {
     "name": "stdout",
     "output_type": "stream",
     "text": [
      "Producto Matriz vector [[ 600    2]\n",
      " [3000   10]]\n",
      "Producto Matriz escalar [[1800    3]\n",
      " [9000   15]]\n"
     ]
    }
   ],
   "source": [
    "#solución en clase\n",
    "\n",
    "import numpy as np\n",
    "import matplotlib.pyplot as plt\n",
    "\n",
    "\n",
    "# Creación de una matriz de ejemplo\n",
    "matriz = np.array([[600,  1], \n",
    "                   [3000, 5]])\n",
    "\n",
    "vector = np.array([1, 2])\n",
    "\n",
    "escalar = 3\n",
    "matriz_vector = matriz*vector\n",
    "matriz_escalar = matriz*escalar\n",
    "\n",
    "print(f'Producto Matriz vector',matriz_vector)\n",
    "\n",
    "print(f'Producto Matriz escalar',matriz_escalar)\n",
    "\n",
    "\n",
    "\n",
    "\n"
   ]
  },
  {
   "cell_type": "markdown",
   "metadata": {},
   "source": [
    "# Ejercicio: Receta de Ensalada de Pasta para 𝑛 Personas\n",
    "\n",
    "Supongamos que quiere preparar recetas de ensalads:\n",
    "\n",
    "Ensalada Básica: Pasta, Tomate, Queso, Aceitunas\n",
    "Ensalada con Extra Queso: Pasta, Queso, Queso, Aceitunas\n",
    "Ensalada Vegana:Pasta, Tomate, Aceitunas\n",
    "\n",
    "Ingredientes:\n",
    "\n",
    "- Pasta: 100 gramos\n",
    "- Tomate: 50 gramos\n",
    "- Queso: 30 gramos\n",
    "- Aceitunas: 20 gramos\n",
    "\n",
    "\n",
    "Plantear la ecuación que permita preparar cada receta a partir de los ingredientes para esta receta y realizar el producto con p = [a,b,c,d]\n",
    "\n",
    "donde:\n",
    "a = 1\n",
    "b = 2\n",
    "c = 3\n",
    "d = 4 \n",
    "\n",
    "\n"
   ]
  }
 ],
 "metadata": {
  "kernelspec": {
   "display_name": "Python 3",
   "language": "python",
   "name": "python3"
  },
  "language_info": {
   "codemirror_mode": {
    "name": "ipython",
    "version": 3
   },
   "file_extension": ".py",
   "mimetype": "text/x-python",
   "name": "python",
   "nbconvert_exporter": "python",
   "pygments_lexer": "ipython3",
   "version": "3.9.6"
  }
 },
 "nbformat": 4,
 "nbformat_minor": 2
}
