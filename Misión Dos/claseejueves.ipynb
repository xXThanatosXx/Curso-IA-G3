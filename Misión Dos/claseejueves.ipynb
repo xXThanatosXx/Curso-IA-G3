{
 "cells": [
  {
   "cell_type": "code",
   "execution_count": 3,
   "metadata": {},
   "outputs": [
    {
     "name": "stdout",
     "output_type": "stream",
     "text": [
      "Su edad sumado es 10 años es: P 44\n"
     ]
    }
   ],
   "source": [
    "edad = int(input(\"Digite su edad en años\"))\n",
    "\n",
    "if edad >= 0 and edad<=20:\n",
    "    print(\"Eres joven\")\n",
    "suma = edad+10\n",
    "print(f\"Su edad sumado es 10 años es: P {suma}\")"
   ]
  },
  {
   "cell_type": "code",
   "execution_count": 6,
   "metadata": {},
   "outputs": [
    {
     "name": "stdout",
     "output_type": "stream",
     "text": [
      "Es mayor de edad\n"
     ]
    }
   ],
   "source": [
    "edad = int(input(\"Digite su edad en años\"))\n",
    "\n",
    "if edad >=1 and edad<=17:\n",
    "    print(\"Es menor de edad\")\n",
    "else:\n",
    "    print(\"Es mayor de edad\")\n",
    "    "
   ]
  },
  {
   "cell_type": "code",
   "execution_count": 16,
   "metadata": {},
   "outputs": [
    {
     "name": "stdout",
     "output_type": "stream",
     "text": [
      "0\n",
      " \n",
      "1\n",
      " \n",
      "2\n",
      " \n",
      "3\n",
      "El bucle FOR ha finalizado\n"
     ]
    }
   ],
   "source": [
    "cadena = [0,1,2,3]\n",
    "cadena_string = \"0 1 2 3\"\n",
    "for i in cadena_string:\n",
    "    print(i)\n",
    "print(\"El bucle FOR ha finalizado\") \n"
   ]
  },
  {
   "cell_type": "code",
   "execution_count": 17,
   "metadata": {},
   "outputs": [
    {
     "name": "stdout",
     "output_type": "stream",
     "text": [
      "El exponente de 0 es: 0\n",
      "El exponente de 1 es: 1\n",
      "El exponente de 2 es: 4\n",
      "El exponente de 3 es: 9\n",
      "El exponente de 4 es: 16\n",
      "El exponente de 5 es: 25\n",
      "El exponente de 6 es: 36\n",
      "El exponente de 7 es: 49\n",
      "El exponente de 8 es: 64\n",
      "El exponente de 9 es: 81\n",
      "El bucle ha finalizado\n"
     ]
    }
   ],
   "source": [
    "for i in range(10):\n",
    "    print(f\"El exponente de {i} es: {i**2}\")\n",
    "print(\"El bucle ha finalizado\")"
   ]
  },
  {
   "cell_type": "code",
   "execution_count": 20,
   "metadata": {},
   "outputs": [
    {
     "name": "stdout",
     "output_type": "stream",
     "text": [
      "1\n"
     ]
    }
   ],
   "source": [
    "a = 4 %3 \n",
    "print(a)"
   ]
  },
  {
   "cell_type": "code",
   "execution_count": 21,
   "metadata": {},
   "outputs": [
    {
     "name": "stdout",
     "output_type": "stream",
     "text": [
      "El exponente de 7 es: 49\n",
      "El exponente de 8 es: 64\n",
      "El bucle ha finalizado\n"
     ]
    }
   ],
   "source": [
    "for i in range (7,9):\n",
    "    if i %3 == 0:\n",
    "        continue\n",
    "    print(f\"El exponente de {i} es: {i**2}\")\n",
    "print(\"El bucle ha finalizado\")"
   ]
  },
  {
   "cell_type": "code",
   "execution_count": 26,
   "metadata": {},
   "outputs": [
    {
     "name": "stdout",
     "output_type": "stream",
     "text": [
      "P\n",
      "y\n",
      "h\n",
      "o\n",
      "n\n"
     ]
    }
   ],
   "source": [
    "cadena = \"Python\"\n",
    "\n",
    "for letra in cadena:\n",
    "    if letra == \"t\":\n",
    "        continue\n",
    "    print(letra)\n"
   ]
  },
  {
   "cell_type": "code",
   "execution_count": 36,
   "metadata": {},
   "outputs": [
    {
     "name": "stdout",
     "output_type": "stream",
     "text": [
      "El exponente de 1 es 1\n",
      "El exponente de 3 es 9\n",
      "El exponente de 5 es 25\n",
      "El exponente de 7 es 49\n",
      "El exponente de 9 es 81\n",
      "El bucle ha finalizado\n"
     ]
    }
   ],
   "source": [
    "for i in range(0,10):\n",
    "    if i % 2 != 0:\n",
    "        print(f\"El exponente de {i} es {i**2}\")\n",
    "print(\"El bucle ha finalizado\")\n"
   ]
  },
  {
   "cell_type": "code",
   "execution_count": 39,
   "metadata": {},
   "outputs": [
    {
     "name": "stdout",
     "output_type": "stream",
     "text": [
      "7\n",
      "8\n",
      "9\n",
      "El bucle termino\n"
     ]
    }
   ],
   "source": [
    "a = 7 \n",
    "while a <10:\n",
    "    print(a)\n",
    "    #a = a+1\n",
    "    a += 1\n",
    "print(\"El bucle termino\")"
   ]
  },
  {
   "cell_type": "code",
   "execution_count": 40,
   "metadata": {},
   "outputs": [
    {
     "name": "stdout",
     "output_type": "stream",
     "text": [
      "El exponente de 0 es 0\n",
      "El exponente de 1 es 1\n",
      "El exponente de 2 es 4\n",
      "El bucle termino\n"
     ]
    }
   ],
   "source": [
    "for i in range(0,10):\n",
    "    print(f\"El exponente de {i} es {i**2}\")\n",
    "    if i ==2:\n",
    "        break\n",
    "print(\"El bucle termino\")"
   ]
  },
  {
   "cell_type": "code",
   "execution_count": 43,
   "metadata": {},
   "outputs": [
    {
     "name": "stdout",
     "output_type": "stream",
     "text": [
      "El exponente de 1 es 1\n",
      "El exponente de 2 es 4\n",
      "El exponente de 4 es 16\n",
      "El exponente de 5 es 25\n",
      "El bucle termino\n"
     ]
    }
   ],
   "source": [
    "import numpy as np\n",
    "\n",
    "my_array = array.np([])\n",
    "lista = [0,1,2,3,4,5]\n",
    "\n",
    "for i in range(len(lista)):\n",
    "\n",
    "    if i%3 ==0:\n",
    "        continue\n",
    "    print(f\"El exponente de {i} es {i**2}\")\n",
    "print(\"El bucle termino\")"
   ]
  }
 ],
 "metadata": {
  "kernelspec": {
   "display_name": "Python 3",
   "language": "python",
   "name": "python3"
  },
  "language_info": {
   "codemirror_mode": {
    "name": "ipython",
    "version": 3
   },
   "file_extension": ".py",
   "mimetype": "text/x-python",
   "name": "python",
   "nbconvert_exporter": "python",
   "pygments_lexer": "ipython3",
   "version": "3.9.6"
  }
 },
 "nbformat": 4,
 "nbformat_minor": 2
}
