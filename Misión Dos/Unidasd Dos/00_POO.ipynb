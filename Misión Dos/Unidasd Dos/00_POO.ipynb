{
 "cells": [
  {
   "cell_type": "markdown",
   "metadata": {},
   "source": [
    "## Unidad Dos Programación orientetada a Objeto POO\n",
    "\n",
    "Es un paradigma de programación que utiliza \"objetos\" y \"clases\" para organizar el código. A continuación, se explican los conceptos básicos de POO en Python."
   ]
  },
  {
   "cell_type": "markdown",
   "metadata": {},
   "source": [
    "## Clases y Objetos\n",
    "- Clase: Es una plantilla para crear objetos. Define un conjunto de atributos y métodos que los objetos creados a partir de la clase pueden tener.\n",
    "- Objeto: Es una instancia de una clase. Cada objeto puede tener valores diferentes para los atributos definidos en la clase."
   ]
  },
  {
   "cell_type": "markdown",
   "metadata": {},
   "source": [
    "### Clase\n",
    "Definición de una Clase\n",
    "Para definir una clase en Python, se usa la palabra clave class:\n",
    "\n",
    "\n",
    "```python\n",
    "\n",
    "```\n"
   ]
  },
  {
   "cell_type": "code",
   "execution_count": null,
   "metadata": {},
   "outputs": [],
   "source": [
    "class Persona:\n",
    "    def __init__(self, nombre, edad):\n",
    "        self.nombre = nombre\n",
    "        self.edad = edad\n",
    "\n",
    "    def saludar(self):\n",
    "        print(f\"Hola, mi nombre es {self.nombre} y tengo {self.edad} años.\")"
   ]
  },
  {
   "cell_type": "markdown",
   "metadata": {},
   "source": [
    "### Creación de Objetos\n",
    "Para crear un objeto de una clase, se llama al nombre de la clase como si fuera una función:\n",
    "\n"
   ]
  },
  {
   "cell_type": "code",
   "execution_count": null,
   "metadata": {},
   "outputs": [],
   "source": [
    "juan = Persona(\"Juan\", 30)\n",
    "maria = Persona(\"María\", 25)\n"
   ]
  },
  {
   "cell_type": "markdown",
   "metadata": {},
   "source": [
    "### Uso de Métodos y Atributos\n",
    "Se accede a los atributos y métodos de un objeto usando la sintaxis de punto:"
   ]
  },
  {
   "cell_type": "code",
   "execution_count": null,
   "metadata": {},
   "outputs": [],
   "source": [
    "juan.saludar()  # Salida: Hola, mi nombre es Juan y tengo 30 años.\n",
    "maria.saludar()  # Salida: Hola, mi nombre es María y tengo 25 años.\n"
   ]
  },
  {
   "cell_type": "markdown",
   "metadata": {},
   "source": [
    "### Encapsulamiento: \n",
    "Los atributos y métodos de una clase están encapsulados y son accesibles solo a través de la interfaz pública de la clase (los métodos). Esto permite ocultar la implementación interna y proteger los datos."
   ]
  },
  {
   "cell_type": "code",
   "execution_count": null,
   "metadata": {},
   "outputs": [],
   "source": [
    "class CuentaBancaria:\n",
    "    def __init__(self, saldo):\n",
    "        self.__saldo = saldo  # Atributo privado\n",
    "\n",
    "    def depositar(self, cantidad):\n",
    "        self.__saldo += cantidad\n",
    "\n",
    "    def retirar(self, cantidad):\n",
    "        if cantidad <= self.__saldo:\n",
    "            self.__saldo -= cantidad\n",
    "\n",
    "    def obtener_saldo(self):\n",
    "        return self.__saldo\n",
    "\n",
    "cuenta = CuentaBancaria(100)\n",
    "cuenta.depositar(50)\n",
    "print(cuenta.obtener_saldo())  # Salida: 150\n"
   ]
  },
  {
   "cell_type": "markdown",
   "metadata": {},
   "source": [
    "### Herencia: \n",
    "Permite crear una nueva clase que hereda atributos y métodos de una clase existente. La nueva clase se llama clase derivada (o subclase) y la clase existente se llama clase base (o superclase)."
   ]
  },
  {
   "cell_type": "code",
   "execution_count": null,
   "metadata": {},
   "outputs": [],
   "source": [
    "class Empleado(Persona):\n",
    "    def __init__(self, nombre, edad, salario):\n",
    "        super().__init__(nombre, edad)\n",
    "        self.salario = salario\n",
    "\n",
    "    def mostrar_salario(self):\n",
    "        print(f\"Mi salario es {self.salario}\")\n",
    "\n",
    "pedro = Empleado(\"Pedro\", 40, 50000)\n",
    "pedro.saludar()  # Salida: Hola, mi nombre es Pedro y tengo 40 años.\n",
    "pedro.mostrar_salario()  # Salida: Mi salario es 50000\n"
   ]
  },
  {
   "cell_type": "markdown",
   "metadata": {},
   "source": [
    "### Polimorfismo: \n",
    "Permite usar una misma interfaz para diferentes tipos de objetos. Es la capacidad de redefinir métodos en clases derivadas."
   ]
  },
  {
   "cell_type": "code",
   "execution_count": null,
   "metadata": {},
   "outputs": [],
   "source": [
    "class Animal:\n",
    "    def hacer_sonido(self):\n",
    "        pass\n",
    "\n",
    "class Perro(Animal):\n",
    "    def hacer_sonido(self):\n",
    "        print(\"Guau\")\n",
    "\n",
    "class Gato(Animal):\n",
    "    def hacer_sonido(self):\n",
    "        print(\"Miau\")\n",
    "\n",
    "def hacer_sonido_animal(animal):\n",
    "    animal.hacer_sonido()\n",
    "\n",
    "perro = Perro()\n",
    "gato = Gato()\n",
    "\n",
    "hacer_sonido_animal(perro)  # Salida: Guau\n",
    "hacer_sonido_animal(gato)  # Salida: Miau\n"
   ]
  },
  {
   "cell_type": "markdown",
   "metadata": {},
   "source": [
    "### Abstracción: \n",
    "Consiste en definir una clase abstracta que no se puede instanciar y que puede contener métodos abstractos (métodos que deben ser implementados por las clases derivadas)."
   ]
  },
  {
   "cell_type": "code",
   "execution_count": null,
   "metadata": {},
   "outputs": [],
   "source": [
    "from abc import ABC, abstractmethod\n",
    "\n",
    "class Figura(ABC):\n",
    "    @abstractmethod\n",
    "    def area(self):\n",
    "        pass\n",
    "\n",
    "class Rectangulo(Figura):\n",
    "    def __init__(self, ancho, alto):\n",
    "        self.ancho = ancho\n",
    "        self.alto = alto\n",
    "\n",
    "    def area(self):\n",
    "        return self.ancho * self.alto\n",
    "\n",
    "rectangulo = Rectangulo(4, 5)\n",
    "print(rectangulo.area())  # Salida: 20\n"
   ]
  }
 ],
 "metadata": {
  "language_info": {
   "name": "python"
  }
 },
 "nbformat": 4,
 "nbformat_minor": 2
}
