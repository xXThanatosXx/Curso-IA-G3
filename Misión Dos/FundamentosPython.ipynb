{
 "cells": [
  {
   "cell_type": "code",
   "execution_count": 20,
   "metadata": {},
   "outputs": [
    {
     "name": "stdout",
     "output_type": "stream",
     "text": [
      "entero 5\n",
      "flotante 5.0\n",
      "cadena Hola, mundo!\n",
      "lista [1, 2, 3, 4, 5]\n",
      "tupla (1, 2, 3, 4, 5)\n",
      "diccionario {'clave1': 'valor1', 'clave2': 'valor2', 'clave3': 'valor3'}\n"
     ]
    }
   ],
   "source": [
    "# Ejemplo de sintaxis y tipos de datos en Python\n",
    "\n",
    "# Variables y tipos de datos básicos\n",
    "entero = 5\n",
    "flotante = 5.0\n",
    "cadena = \"Hola, mundo!\"\n",
    "\n",
    "# Listas\n",
    "lista = [1, 2, 3, 4, 5]\n",
    "\n",
    "# Tuplas\n",
    "tupla = (1, 2, 3, 4, 5)\n",
    "\n",
    "# Diccionarios\n",
    "diccionario = {'clave1': 'valor1', 'clave2': 'valor2', 'clave3': 'valor3'}\n",
    "\n",
    "# Conjuntos\n",
    "conjunto = {1, 2, 3, 4, 5}\n",
    "\n",
    "print(f'entero',entero)\n",
    "print(f'flotante',flotante)\n",
    "print(f'cadena',cadena)\n",
    "print(f'lista',lista)\n",
    "print(f'tupla',tupla)\n",
    "print(f'diccionario',diccionario)"
   ]
  },
  {
   "cell_type": "markdown",
   "metadata": {},
   "source": [
    "# Listas\n",
    "\n",
    "Las listas en Python son estructuras de datos que son mutables, lo que significa que puedes modificar sus elementos una vez creados. Las listas son ideales para colecciones de datos que pueden cambiar en tamaño o contenido durante la ejecución de un programa. Se definen utilizando corchetes \n",
    "\n",
    "## Características de las listas:\n",
    "\n",
    "### Mutables.\n",
    "Permiten elementos duplicados.\n",
    "Los elementos pueden ser de diferentes tipos.\n",
    "Ordenadas, lo que significa que los elementos tienen un orden definido que no cambiará a menos que los modifiques.\n",
    "\n",
    "# Tuplas\n",
    "Las tuplas son similares a las listas en cuanto a que pueden contener múltiples elementos. Sin embargo, son inmutables, lo que significa que no puedes cambiar sus elementos después de que se han creado. Las tuplas son útiles cuando necesitas una lista de constantes o cuando quieres asegurarte de que los datos no cambien durante la ejecución del programa. Se definen utilizando paréntesis ().\n",
    "\n",
    "Características de las tuplas:\n",
    "\n",
    "## Inmutables.\n",
    "- Permiten elementos duplicados.\n",
    "- Los elementos pueden ser de diferentes tipos.\n",
    "Ordenadas."
   ]
  },
  {
   "cell_type": "code",
   "execution_count": 21,
   "metadata": {},
   "outputs": [
    {
     "name": "stdout",
     "output_type": "stream",
     "text": [
      "Lista original: [1, 2, 3, 4, 5]\n",
      "Tupla original: (1, 2, 3, 4, 5)\n",
      "Lista modificada: [0, 2, 3, 4, 5, 6]\n",
      "Error al intentar modificar una tupla: 'tuple' object does not support item assignment\n",
      "Tupla sin cambios: (1, 2, 3, 4, 5)\n"
     ]
    }
   ],
   "source": [
    "# Crear una lista y una tupla\n",
    "lista = [1, 2, 3, 4, 5]\n",
    "tupla = (1, 2, 3, 4, 5)\n",
    "\n",
    "# Imprimir lista y tupla originales\n",
    "print(\"Lista original:\", lista)\n",
    "print(\"Tupla original:\", tupla)\n",
    "\n",
    "# Modificar la lista\n",
    "lista[0] = 0  # Cambiar el primer elemento\n",
    "lista.append(6)  # Añadir un nuevo elemento al final\n",
    "print(\"Lista modificada:\", lista)\n",
    "\n",
    "# Intentar modificar la tupla\n",
    "try:\n",
    "    tupla[0] = 0  # Esto generará un error\n",
    "except TypeError as e:\n",
    "    print(\"Error al intentar modificar una tupla:\", e)\n",
    "\n",
    "# Intentar añadir elementos a la tupla (esto también genera un error, comentado para evitar la ejecución)\n",
    "# tupla.append(6)\n",
    "\n",
    "# Mostrar la tupla sin cambios\n",
    "print(\"Tupla sin cambios:\", tupla)"
   ]
  },
  {
   "cell_type": "code",
   "execution_count": 14,
   "metadata": {},
   "outputs": [],
   "source": [
    "# Operaciones básicas\n",
    "suma = entero + 2\n",
    "resta = flotante - 1.0\n",
    "multiplicacion = entero * 2\n",
    "division = entero / 2"
   ]
  },
  {
   "cell_type": "code",
   "execution_count": 6,
   "metadata": {},
   "outputs": [
    {
     "name": "stdout",
     "output_type": "stream",
     "text": [
      "El número es menor que 10\n"
     ]
    }
   ],
   "source": [
    "# Estructuras de control\n",
    "\n",
    "# Condicionales\n",
    "if entero < 10:\n",
    "    print(\"El número es menor que 10\")\n",
    "elif entero == 10:\n",
    "    print(\"El número es 10\")\n",
    "else:\n",
    "    print(\"El número es mayor que 10\")\n"
   ]
  },
  {
   "cell_type": "code",
   "execution_count": 7,
   "metadata": {},
   "outputs": [
    {
     "name": "stdout",
     "output_type": "stream",
     "text": [
      "1\n",
      "2\n",
      "3\n",
      "4\n",
      "5\n",
      "5\n",
      "4\n",
      "3\n",
      "2\n",
      "1\n"
     ]
    }
   ],
   "source": [
    "# Bucles\n",
    "for elemento in lista:\n",
    "    print(elemento)\n",
    "\n",
    "contador = 5\n",
    "while contador > 0:\n",
    "    print(contador)\n",
    "    contador -= 1\n"
   ]
  },
  {
   "cell_type": "code",
   "execution_count": 8,
   "metadata": {},
   "outputs": [
    {
     "name": "stdout",
     "output_type": "stream",
     "text": [
      "El resultado de sumar 3 y 4 es 7\n"
     ]
    }
   ],
   "source": [
    "# Funciones\n",
    "def sumar(a, b):\n",
    "    return a + b\n",
    "\n",
    "resultado = sumar(3, 4)\n",
    "print(f\"El resultado de sumar 3 y 4 es {resultado}\")\n"
   ]
  },
  {
   "cell_type": "code",
   "execution_count": 9,
   "metadata": {},
   "outputs": [
    {
     "name": "stdout",
     "output_type": "stream",
     "text": [
      "Hola Mundo!\n",
      "Entero: 5, Flotante: 5.0, Cadena: Hola, mundo!\n",
      "Lista: [1, 2, 3, 4, 5]\n",
      "Tupla: (1, 2, 3, 4, 5)\n",
      "Diccionario: {'clave1': 'valor1', 'clave2': 'valor2', 'clave3': 'valor3'}\n",
      "Conjunto: {1, 2, 3, 4, 5}\n"
     ]
    }
   ],
   "source": [
    "# Ejemplo de manejo de strings\n",
    "saludo = \"Hola\"\n",
    "nombre = \"Mundo\"\n",
    "mensaje = saludo + \" \" + nombre + \"!\"\n",
    "print(mensaje)\n",
    "\n",
    "# Imprimir todos los elementos\n",
    "print(f\"Entero: {entero}, Flotante: {flotante}, Cadena: {cadena}\")\n",
    "print(f\"Lista: {lista}\")\n",
    "print(f\"Tupla: {tupla}\")\n",
    "print(f\"Diccionario: {diccionario}\")\n",
    "print(f\"Conjunto: {conjunto}\")"
   ]
  },
  {
   "cell_type": "code",
   "execution_count": 60,
   "metadata": {},
   "outputs": [
    {
     "name": "stdout",
     "output_type": "stream",
     "text": [
      "[1]\n"
     ]
    },
    {
     "data": {
      "text/plain": [
       "array([3, 6])"
      ]
     },
     "execution_count": 60,
     "metadata": {},
     "output_type": "execute_result"
    }
   ],
   "source": [
    "import numpy as np\n",
    "\n",
    "my_string = \"thisStringIsAwesome  \"\n",
    "my_string + \"Innit\"\n",
    "\n",
    "\n",
    "'k' in my_string\n",
    "\n",
    "my_string[4:9] \n",
    "\n",
    "my_string.upper()\n",
    "\n",
    "my_string.lower()\n",
    "\n",
    "my_string.replace('e', 'i')\n",
    "\n",
    "my_string.strip()\n",
    "\n",
    "d = 2.5\n",
    "\n",
    "int(d)\n",
    "my_list = [1, 2, 3, 4]\n",
    "\n",
    "my_array = np.array(my_list)\n",
    "my_2darray =np.array([[1,2,3],\n",
    "                      [4,5,6]])\n",
    " \n",
    "\n",
    "print(my_array[0:1])\n",
    "\n",
    "my_2darray[:,2] "
   ]
  },
  {
   "cell_type": "code",
   "execution_count": null,
   "metadata": {},
   "outputs": [],
   "source": []
  }
 ],
 "metadata": {
  "kernelspec": {
   "display_name": "Python 3",
   "language": "python",
   "name": "python3"
  },
  "language_info": {
   "codemirror_mode": {
    "name": "ipython",
    "version": 3
   },
   "file_extension": ".py",
   "mimetype": "text/x-python",
   "name": "python",
   "nbconvert_exporter": "python",
   "pygments_lexer": "ipython3",
   "version": "3.9.6"
  }
 },
 "nbformat": 4,
 "nbformat_minor": 2
}
