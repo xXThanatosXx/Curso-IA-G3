{
  "nbformat": 4,
  "nbformat_minor": 0,
  "metadata": {
    "colab": {
      "provenance": []
    },
    "kernelspec": {
      "name": "python3",
      "display_name": "Python 3"
    },
    "language_info": {
      "name": "python"
    }
  },
  "cells": [
    {
      "cell_type": "code",
      "execution_count": 44,
      "metadata": {
        "colab": {
          "base_uri": "https://localhost:8080/"
        },
        "id": "AaVJqtloblbK",
        "outputId": "2c3d131f-e351-4d5c-a6a2-84e42cb3f7c0"
      },
      "outputs": [
        {
          "output_type": "stream",
          "name": "stdout",
          "text": [
            "Esta es mi edad 30 y mi año de nacimiento es 1990\n",
            "Esta es mi edad 30 y mi año de nacimiento es 1990, y mi hermana tiene 22 años\n",
            "Esta es mi edad 40 y mi año de nacimiento es 1990 y mi nombre es Andres\n",
            "Esta es mi edad 30 y mi año de nacimiento es 1990\n"
          ]
        }
      ],
      "source": [
        "#Cadena de texto (string)\n",
        "my_string = \"Este es un texto\"\n",
        "edad = 30\n",
        "año = 1990\n",
        "edadH = 22\n",
        "Enrique = 40\n",
        "nombre = \"Andres\"\n",
        "\n",
        "#Formateo de texto largo\n",
        "print(\"Esta es mi edad {} y mi año de nacimiento es {}\".format(edad,año))\n",
        "#Formateo de texto corto\n",
        "print(f\"Esta es mi edad {edad} y mi año de nacimiento es {año}, y mi hermana tiene {edadH} años\")\n",
        "#Formato tres por tipo de dato enteros(%d), flotantes(%f), texto(%s)\n",
        "print(f\"Esta es mi edad %d y mi año de nacimiento es %d y mi nombre es %s\"%(Enrique,año,nombre))\n",
        "# print(f\"Esta es mi edad %d y mi año de nacimiento es %d y mi nombre es %s\"%(nombre,edad,año))\n",
        "print(\"Esta es mi edad {} y mi año de nacimiento es {}\".format(edad,año))"
      ]
    },
    {
      "cell_type": "markdown",
      "source": [
        "# Condicionales"
      ],
      "metadata": {
        "id": "TkgPVaqyktU5"
      }
    },
    {
      "cell_type": "code",
      "source": [
        "# Definir el tipo dato entero(int), flotante (float)\n",
        "edad = int(input(\"Digite su edad: \"))\n",
        "if edad >= 0 and edad <=20:\n",
        "  print(\"Deacuerdo a tu edad eres joven\")\n",
        "  print(\"este es otro texto\")\n",
        "  suma = edad+10\n",
        "  print(suma)\n",
        "\n",
        "print(\"la edad que ingreso es: %d\"%(edad))\n",
        "print(\"/\"*4)\n"
      ],
      "metadata": {
        "colab": {
          "base_uri": "https://localhost:8080/"
        },
        "id": "wJeJWahYk299",
        "outputId": "764a7e9c-8c62-4c0c-cb15-8cfe8a37b5d7"
      },
      "execution_count": 56,
      "outputs": [
        {
          "output_type": "stream",
          "name": "stdout",
          "text": [
            "Digite su edad: 0\n",
            "Deacuerdo a tu edad eres joven\n",
            "este es otro texto\n",
            "10\n",
            "la edad que ingreso es: 0\n",
            "////\n"
          ]
        }
      ]
    },
    {
      "cell_type": "code",
      "source": [
        "edad = int(input(\"Digite su edad en años: \"))\n",
        "if edad >= 1 and edad <= 17:\n",
        "  print(\"Deacuerdo a tu edad eres menor de edad\")\n",
        "else:\n",
        "  print(\"eres mayor de Edad\")\n",
        "  print(\"este es otro texto\")\n",
        "\n",
        "print(\"_\"*20)"
      ],
      "metadata": {
        "colab": {
          "base_uri": "https://localhost:8080/"
        },
        "id": "laJQpSMsx5de",
        "outputId": "d69725eb-ae34-46cb-a399-ebd72d4b4f64"
      },
      "execution_count": 64,
      "outputs": [
        {
          "output_type": "stream",
          "name": "stdout",
          "text": [
            "Digite su edad en años: 14\n",
            "Deacuerdo a tu edad eres menor de edad\n",
            "____________________\n"
          ]
        }
      ]
    },
    {
      "cell_type": "code",
      "source": [],
      "metadata": {
        "id": "vzOIOcbAz9yv"
      },
      "execution_count": null,
      "outputs": []
    },
    {
      "cell_type": "code",
      "source": [
        "edad = input(\"Digite su edad en años: \")\n",
        "print(type(edad))\n",
        "\n",
        "if edad >= \"1\" and edad <= \"17\":\n",
        "  print(\"Deacuerdo a tu edad eres menor de edad\")\n",
        "else:\n",
        "  print(\"eres mayor de Edad\")\n",
        "  print(\"este es otro texto\")\n",
        "\n",
        "print(\"_\"*20)\n",
        "\n",
        "\n"
      ],
      "metadata": {
        "colab": {
          "base_uri": "https://localhost:8080/"
        },
        "id": "HpCIevQmz6EM",
        "outputId": "9aa7b6f9-ca0b-4caf-be56-da7e46f7aa97"
      },
      "execution_count": 68,
      "outputs": [
        {
          "output_type": "stream",
          "name": "stdout",
          "text": [
            "Digite su edad en años: 20\n",
            "<class 'str'>\n",
            "eres mayor de Edad\n",
            "este es otro texto\n",
            "____________________\n"
          ]
        }
      ]
    },
    {
      "cell_type": "code",
      "source": [
        "edad = int(input(\"Digite su edad en años: \"))\n",
        "if edad < 16:\n",
        "  print(\"Todavia no puedes conducir\")\n",
        "elif edad < 18:\n",
        "  print(\"puede obtener el permiso para conducir B2 y C1\")\n",
        "elif edad <= 70:\n",
        "  print(\"Puede obtener la licencia clase B2\")\n",
        "elif edad > 70 and edad < 75:\n",
        "  print(\"Solompuede renover la licencia B2\")\n",
        "else:\n",
        "  print(\"iDENTACIÓN\")\n",
        "\n",
        "print(\"YA NO PUEDE CONDUCIR\")\n"
      ],
      "metadata": {
        "colab": {
          "base_uri": "https://localhost:8080/"
        },
        "id": "vNC3_H97255V",
        "outputId": "2ce3eded-b29c-42dc-d6e3-43c1bd383021"
      },
      "execution_count": 72,
      "outputs": [
        {
          "output_type": "stream",
          "name": "stdout",
          "text": [
            "Digite su edad en años: 80\n",
            "iDENTACIÓN\n",
            "YA NO PUEDE CONDUCIR\n"
          ]
        }
      ]
    }
  ]
}