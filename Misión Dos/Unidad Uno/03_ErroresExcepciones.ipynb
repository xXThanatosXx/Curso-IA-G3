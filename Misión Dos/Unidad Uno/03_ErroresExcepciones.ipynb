{
  "cells": [
    {
      "cell_type": "markdown",
      "metadata": {},
      "source": [
        "# Manejo de errores y excepciones"
      ]
    },
    {
      "cell_type": "markdown",
      "metadata": {},
      "source": [
        "El manejo de excepciones en Python permite gestionar errores de manera controlada sin que el programa se detenga abruptamente. Utiliza bloques try, except, else y finally."
      ]
    },
    {
      "cell_type": "markdown",
      "metadata": {},
      "source": [
        "- Errores de sintaxis\n"
      ]
    },
    {
      "cell_type": "code",
      "execution_count": null,
      "metadata": {},
      "outputs": [],
      "source": [
        "print(\"Hi\""
      ]
    },
    {
      "cell_type": "markdown",
      "metadata": {},
      "source": [
        "- Errores de nombre"
      ]
    },
    {
      "cell_type": "code",
      "execution_count": null,
      "metadata": {},
      "outputs": [],
      "source": [
        "pint(\"Hola\")\n"
      ]
    },
    {
      "cell_type": "markdown",
      "metadata": {},
      "source": [
        "- Errores semánticos"
      ]
    },
    {
      "cell_type": "code",
      "execution_count": null,
      "metadata": {},
      "outputs": [],
      "source": [
        "l = []\n",
        "l.pop()\n"
      ]
    },
    {
      "cell_type": "markdown",
      "metadata": {},
      "source": [
        "Para prevenir el error deberíamos comprobar que una lista tenga como mínimo un elemento antes de intentar sacarlo, algo factible utilizando la función len():\n"
      ]
    },
    {
      "cell_type": "code",
      "execution_count": null,
      "metadata": {},
      "outputs": [],
      "source": [
        "l = [ ] \n",
        "if len(l) > 0: \n",
        "\tl.pop()\n"
      ]
    },
    {
      "cell_type": "markdown",
      "metadata": {},
      "source": [
        "### Ejemplo lectura de cadena y operación sin conversión a número\n"
      ]
    },
    {
      "cell_type": "code",
      "execution_count": null,
      "metadata": {},
      "outputs": [],
      "source": [
        "n = input(\"Introduce un número: \") \n",
        "print(\"{}/{} = {}\".format(n,m,n/m))\n"
      ]
    },
    {
      "cell_type": "markdown",
      "metadata": {},
      "source": [
        "- solución: transformando la cadena a entero o flotante"
      ]
    },
    {
      "cell_type": "code",
      "execution_count": null,
      "metadata": {},
      "outputs": [],
      "source": [
        "n = float(input(\"Introduce un número: \")) \n",
        "m = 4 \n",
        "print(\"{}/{} = {}\".format(n,m,n/m))\n",
        "\n"
      ]
    },
    {
      "cell_type": "markdown",
      "metadata": {},
      "source": [
        "## uso de Try except"
      ]
    },
    {
      "cell_type": "code",
      "execution_count": 11,
      "metadata": {},
      "outputs": [
        {
          "name": "stdout",
          "output_type": "stream",
          "text": [
            "Ha ocurrido un error, solo puedes introducir números \n",
            "5.0/4 = 1.25\n"
          ]
        }
      ],
      "source": [
        "while(True): \n",
        "\ttry:\n",
        "\t\tn = float(input(\"Introduce un número: \"))\n",
        "\t\tm = 4 \n",
        "\t\tprint(\"{}/{} = {}\".format(n,m,n/m)) \n",
        "\t\tbreak # Importante romper la iteración si todo ha salido bien \t\n",
        "\texcept:\n",
        "\t\tprint(\"Ha ocurrido un error, solo puedes introducir números \")\n",
        "\n"
      ]
    },
    {
      "cell_type": "markdown",
      "metadata": {},
      "source": [
        "## Uso de bloque else\n"
      ]
    },
    {
      "cell_type": "code",
      "execution_count": 13,
      "metadata": {},
      "outputs": [
        {
          "name": "stdout",
          "output_type": "stream",
          "text": [
            "Ha ocurrido un error, introduce bien el número\n",
            "45.0/4 = 11.25\n",
            "Todo ha funcionado correctamente\n"
          ]
        }
      ],
      "source": [
        "while(True):\n",
        "\ttry: \n",
        "\t\tn = float(input(\"Introduce un número: \"))\n",
        "\t\tm = 4\n",
        "\t\tprint(\"{}/{} = {}\".format(n,m,n/m)) \n",
        "\texcept:\n",
        "\t\tprint(\"Ha ocurrido un error, introduce bien el número\") \n",
        "\telse:\n",
        "\t\tprint(\"Todo ha funcionado correctamente\") \n",
        "\t\tbreak # Importante romper la iteración si todo ha salido "
      ]
    },
    {
      "cell_type": "markdown",
      "metadata": {},
      "source": [
        "## Uso de Finally\n"
      ]
    },
    {
      "cell_type": "code",
      "execution_count": 17,
      "metadata": {},
      "outputs": [
        {
          "name": "stdout",
          "output_type": "stream",
          "text": [
            "Ha ocurrido un error, introduce bien el número\n",
            "Fin de la iteración\n",
            "0.0/4 = 0.0\n",
            "Todo ha funcionado correctamente\n",
            "Fin de la iteración\n"
          ]
        }
      ],
      "source": [
        "while(True): \n",
        "\ttry: \n",
        "\t\tn = float(input(\"Introduce un número: \")) \n",
        "\t\tm = 4 \n",
        "\t\tprint(\"{}/{} = {}\".format(n,m,n/m))\n",
        "\texcept:\n",
        "\t\tprint(\"Ha ocurrido un error, introduce bien el número\")\n",
        "\telse:\n",
        "\t\tprint(\"Todo ha funcionado correctamente\") \n",
        "\t\tbreak # Importante romper la iteración si todo ha salido bien \t\n",
        "\tfinally: \n",
        "\t\tprint(\"Fin de la iteración\") # Siempre se ejecuta\n"
      ]
    },
    {
      "cell_type": "markdown",
      "metadata": {},
      "source": [
        "- Sintaxis básica:\n",
        "\n",
        "```python\n",
        "try:\n",
        "    # Código que puede causar una excepción\n",
        "    resultado = 10 / 0\n",
        "except ZeroDivisionError as e:\n",
        "    # Código que se ejecuta si ocurre una excepción\n",
        "    print(f\"Error: {e}\")\n",
        "else:\n",
        "    # Código que se ejecuta si no ocurre ninguna excepción\n",
        "    print(\"Operación exitosa\")\n",
        "finally:\n",
        "    # Código que se ejecuta siempre, ocurra o no una excepción\n",
        "    print(\"Operación finalizada\")\n",
        "```\n"
      ]
    },
    {
      "cell_type": "markdown",
      "metadata": {},
      "source": [
        "Ejemplo:"
      ]
    },
    {
      "cell_type": "code",
      "execution_count": null,
      "metadata": {},
      "outputs": [],
      "source": [
        "try:\n",
        "    numero = int(input(\"Ingresa un número: \"))\n",
        "    resultado = 10 / numero\n",
        "except ValueError:\n",
        "    print(\"Debes ingresar un número válido\")\n",
        "except ZeroDivisionError:\n",
        "    print(\"No se puede dividir entre cero\")\n",
        "else:\n",
        "    print(f\"Resultado: {resultado}\")\n",
        "finally:\n",
        "    print(\"Fin del programa\")\n"
      ]
    }
  ],
  "metadata": {
    "colab": {
      "provenance": []
    },
    "kernelspec": {
      "display_name": "Python 3",
      "name": "python3"
    },
    "language_info": {
      "codemirror_mode": {
        "name": "ipython",
        "version": 3
      },
      "file_extension": ".py",
      "mimetype": "text/x-python",
      "name": "python",
      "nbconvert_exporter": "python",
      "pygments_lexer": "ipython3",
      "version": "3.9.6"
    }
  },
  "nbformat": 4,
  "nbformat_minor": 0
}
