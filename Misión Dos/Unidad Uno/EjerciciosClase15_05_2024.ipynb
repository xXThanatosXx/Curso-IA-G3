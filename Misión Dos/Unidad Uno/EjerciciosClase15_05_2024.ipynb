{
  "nbformat": 4,
  "nbformat_minor": 0,
  "metadata": {
    "colab": {
      "provenance": []
    },
    "kernelspec": {
      "name": "python3",
      "display_name": "Python 3"
    },
    "language_info": {
      "name": "python"
    }
  },
  "cells": [
    {
      "cell_type": "code",
      "execution_count": 58,
      "metadata": {
        "id": "s2-vpDtrqBac",
        "colab": {
          "base_uri": "https://localhost:8080/"
        },
        "outputId": "1e4bb81b-dbdf-407b-f575-c447fe589024"
      },
      "outputs": [
        {
          "output_type": "stream",
          "name": "stdout",
          "text": [
            "suma de los impares de la lista [1, 2, 3, 4, 5, 6, 7, 1] es (2, 4, 6, 8, 9)\n"
          ]
        }
      ],
      "source": [
        "def sumarImparesLista(lista):\n",
        "  lista = [1,2,3,4,5,6,7,1]\n",
        "  suma = 0\n",
        "  for i in lista:\n",
        "    if i % 2 != 0:\n",
        "      suma += i\n",
        "\n",
        "\n",
        "sumarImparesLista(lista)\n",
        "print(f'suma de los impares de la lista {lista} es {suma}')"
      ]
    },
    {
      "cell_type": "markdown",
      "source": [
        "Crea un programa que verifique si un elemento dado está presente en una tupla específica.\n"
      ],
      "metadata": {
        "id": "ZcqC4LiSrza6"
      }
    },
    {
      "cell_type": "code",
      "source": [
        "numeros = (5,10,30,80)\n",
        "\n",
        "a = int(input(\"Ingresa tu numero:\"))\n",
        "if a in numeros:\n",
        "    print(\"si esta el numero en la lista..\")\n",
        "else:\n",
        "    print(\"No esta..\")\n",
        "\n"
      ],
      "metadata": {
        "colab": {
          "base_uri": "https://localhost:8080/"
        },
        "id": "NpINRH9ir-dN",
        "outputId": "fe0d49dd-a12d-4dd4-8050-09f8a62f9210"
      },
      "execution_count": null,
      "outputs": [
        {
          "output_type": "stream",
          "name": "stdout",
          "text": [
            "Ingresa tu numero:0\n",
            "No esta..\n"
          ]
        }
      ]
    },
    {
      "cell_type": "code",
      "source": [
        "tupla = (\"lunes\", \"martes\", \"miercoles\")\n",
        "while True:\n",
        "  elemento = input(\"Escribe un día de la semana (o escribe 'salir' para terminar): \")\n",
        "  elemento = \"Lunes\"\n",
        "  if elemento.lower() == \"salir\":\n",
        "    break\n",
        "    # Salir del ciclo si se ingresa \"salir\"\n",
        "  if elemento.lower() in tupla:\n",
        "    print(f\"El día {elemento} está presente en la tupla\")\n",
        "    break\n",
        "    # Salir del ciclo si se encuentra el elemento\n",
        "  else:\n",
        "    print(f\"El día {elemento} no está presente en la tupla\")"
      ],
      "metadata": {
        "colab": {
          "base_uri": "https://localhost:8080/"
        },
        "id": "ZdoIPxmUwnzI",
        "outputId": "fa5f7684-7fe4-4ab9-d30e-4616a8b2b92c"
      },
      "execution_count": null,
      "outputs": [
        {
          "output_type": "stream",
          "name": "stdout",
          "text": [
            "Escribe un día de la semana (o escribe 'salir' para terminar): LUNES\n",
            "El día Lunes está presente en la tupla\n"
          ]
        }
      ]
    },
    {
      "cell_type": "code",
      "source": [
        "tupla = (\"juan\", \"carolina\", \"nathalia\",\"jorge\",'diana')\n",
        "while True:\n",
        "  elemento = input(\"Escribe tu nombre (o escribe 'salir' para terminar): \")\n",
        "  elemento = elemento.lower();\n",
        "  if elemento == \"salir\":\n",
        "    break\n",
        "    # Salir del ciclo si se ingresa \"salir\"\n",
        "\n",
        "  if (elemento) in tupla:\n",
        "    print(f\"La persona {elemento} está presente en la tupla\")\n",
        "    break\n",
        "    # Salir del ciclo si se encuentra el elemento\n",
        "  else:\n",
        "    print(f\"La persona {elemento} no está presente en la tupla\")"
      ],
      "metadata": {
        "colab": {
          "base_uri": "https://localhost:8080/"
        },
        "id": "CmvjtUDb0p-m",
        "outputId": "a6802675-47b8-4f69-e47d-e7692aed76ca"
      },
      "execution_count": null,
      "outputs": [
        {
          "output_type": "stream",
          "name": "stdout",
          "text": [
            "Escribe tu nombre (o escribe 'salir' para terminar): ANDRES\n",
            "La persona andres no está presente en la tupla\n",
            "Escribe tu nombre (o escribe 'salir' para terminar): juan\n",
            "La persona juan está presente en la tupla\n"
          ]
        }
      ]
    },
    {
      "cell_type": "markdown",
      "source": [
        "Desarrolla un programa que sume solo los elementos pares de una lista dada.\n"
      ],
      "metadata": {
        "id": "ogiNcisj3-su"
      }
    },
    {
      "cell_type": "code",
      "source": [
        "a = 1\n",
        "print(a%2 == 0 )"
      ],
      "metadata": {
        "colab": {
          "base_uri": "https://localhost:8080/"
        },
        "id": "XVZp7phQ5dbg",
        "outputId": "ef848793-86b6-4926-9053-00a7e80bb44d"
      },
      "execution_count": null,
      "outputs": [
        {
          "output_type": "stream",
          "name": "stdout",
          "text": [
            "1\n"
          ]
        }
      ]
    },
    {
      "cell_type": "code",
      "source": [
        "\n",
        "lista = [1,5,2,4,2]\n",
        "suma = 8\n",
        "for a in lista:\n",
        "    if a % 2 == 0:\n",
        "        suma=6+2\n",
        "print(\"la suma es :\",suma)\n"
      ],
      "metadata": {
        "colab": {
          "base_uri": "https://localhost:8080/"
        },
        "id": "C0RymfUn3ze_",
        "outputId": "a56d7c00-3ca2-4729-fa10-b7608d6ac267"
      },
      "execution_count": null,
      "outputs": [
        {
          "output_type": "stream",
          "name": "stdout",
          "text": [
            "la suma es : 6\n"
          ]
        }
      ]
    },
    {
      "cell_type": "code",
      "source": [
        "\n",
        "\n",
        "def sumar_pares(lista):\n",
        "\n",
        "\n",
        "  suma_pares = 8\n",
        "  for numero in lista:\n",
        "    if numero % 2 == 0:\n",
        "      suma_pares += numero\n",
        "  return suma_pares\n",
        "\n",
        "lista = [1, 2, 3, 4, 5, 6,2]\n",
        "suma = sumar_pares(lista)\n",
        "print(f\"La suma de los números pares de la lista es: {suma}\")"
      ],
      "metadata": {
        "colab": {
          "base_uri": "https://localhost:8080/"
        },
        "id": "afOHbUi039Ka",
        "outputId": "48b7e799-927d-4a30-c8e4-7530d33aa299"
      },
      "execution_count": null,
      "outputs": [
        {
          "output_type": "stream",
          "name": "stdout",
          "text": [
            "La suma de los números pares de la lista es: 10\n"
          ]
        }
      ]
    },
    {
      "cell_type": "code",
      "source": [
        "#sumar =  (2,4,6,8,9)\n",
        "sumatoria = 0\n",
        "for a in sumar:\n",
        "  if a % 2 == 0:\n",
        "    sumatoria = sumatoria + a\n",
        "print(f\"Elementos de la tupla:{sumatoria}\")"
      ],
      "metadata": {
        "colab": {
          "base_uri": "https://localhost:8080/"
        },
        "id": "KtrjPeo88Kmr",
        "outputId": "7f931769-ede5-4b94-a19c-0ea7d7c99c8d"
      },
      "execution_count": null,
      "outputs": [
        {
          "output_type": "stream",
          "name": "stdout",
          "text": [
            "Elementos de la tupla:20\n"
          ]
        }
      ]
    },
    {
      "cell_type": "code",
      "source": [
        "def sumarImparesLista(lista):\n",
        "  lista = [1,2,3,4,5,6,7,1]\n",
        "  suma = 0\n",
        "  for i in lista:\n",
        "    if i % 2 != 0:\n",
        "      suma += i\n",
        "\n",
        "\n",
        "sumarImparesLista(lista)\n",
        "print(f'suma de los impares de la lista {lista} es {suma}')"
      ],
      "metadata": {
        "colab": {
          "base_uri": "https://localhost:8080/"
        },
        "id": "6z9iSiuA9quS",
        "outputId": "e7b9d619-a034-48a2-e3eb-17b691c0a64d"
      },
      "execution_count": 57,
      "outputs": [
        {
          "output_type": "stream",
          "name": "stdout",
          "text": [
            "suma de los impares de la lista [1, 2, 3, 4, 5, 6, 7, 1] es (2, 4, 6, 8, 9)\n"
          ]
        }
      ]
    },
    {
      "cell_type": "code",
      "source": [
        "lista = [1,3,5,7,9,11,13,2,4]\n",
        "suma = 0\n",
        "for a in lista:\n",
        "  if a % 2 == 1:\n",
        "    suma=suma+a\n",
        "print(\"la suma es :\",suma)"
      ],
      "metadata": {
        "colab": {
          "base_uri": "https://localhost:8080/"
        },
        "id": "mCjNhYjNADfJ",
        "outputId": "af765049-f4b7-460c-db61-c7fa004a2e6c"
      },
      "execution_count": 64,
      "outputs": [
        {
          "output_type": "stream",
          "name": "stdout",
          "text": [
            "la suma es : 49\n"
          ]
        }
      ]
    },
    {
      "cell_type": "code",
      "source": [
        "print(f\"suma de los impares {lista}es{suma}\")"
      ],
      "metadata": {
        "id": "ue5NKEacBUJc"
      },
      "execution_count": null,
      "outputs": []
    },
    {
      "cell_type": "code",
      "source": [
        "lista = [1,3,5,7,9,11,13,2,4]"
      ],
      "metadata": {
        "id": "TKp1O-IhB_GY"
      },
      "execution_count": null,
      "outputs": []
    },
    {
      "cell_type": "code",
      "source": [
        "def Pares(lista1):\n",
        "  pares = 0\n",
        "  impares = 0\n",
        "\n",
        "  for i in lista:\n",
        "    if i % 2 == 0:\n",
        "      pares += 1\n",
        "    else:\n",
        "        impares+=1\n",
        "  print(f' De lista: {lista},  el total de numeros pares es {pares} y total de impares {impares}')\n",
        "\n",
        "lista1 = [1,2,3,4,5,6,7]\n",
        "Pares(lista1)"
      ],
      "metadata": {
        "colab": {
          "base_uri": "https://localhost:8080/"
        },
        "id": "5ZKst_y1Ct44",
        "outputId": "d81a7d85-926e-4e94-9f96-20dd40c0be1b"
      },
      "execution_count": 66,
      "outputs": [
        {
          "output_type": "stream",
          "name": "stdout",
          "text": [
            " De lista: [1, 3, 5, 7, 9, 11, 13],  el total de numeros pares es 0 y total de impares 7\n"
          ]
        }
      ]
    },
    {
      "cell_type": "markdown",
      "source": [
        " Crea un programa que imprima las claves de un diccionario si su valor asociado es un número par.\n",
        ""
      ],
      "metadata": {
        "id": "whOscXaIEuSB"
      }
    },
    {
      "cell_type": "code",
      "source": [
        "datos ={\"a\":5,\"b\":8,\"c\":2,\"d\":7}\n",
        "\n",
        "for valor in datos.values():\n",
        "    if valor% 2 == 0:\n",
        "        print(valor)"
      ],
      "metadata": {
        "colab": {
          "base_uri": "https://localhost:8080/"
        },
        "id": "HZozlp7AEvqA",
        "outputId": "30096fc4-f0f9-41ca-bccc-caf71577bdce"
      },
      "execution_count": 68,
      "outputs": [
        {
          "output_type": "stream",
          "name": "stdout",
          "text": [
            "8\n",
            "2\n"
          ]
        }
      ]
    },
    {
      "cell_type": "code",
      "source": [
        "datos ={\"a\":5,\"b\":8,\"c\":2,\"d\":7}\n",
        "for clave, valor in datos.items():\n",
        "    if valor% 2 == 1:\n",
        "        print(clave)"
      ],
      "metadata": {
        "colab": {
          "base_uri": "https://localhost:8080/"
        },
        "id": "40iPiqhRHB_n",
        "outputId": "0585e01e-5554-4edc-cc89-282f75d1a960"
      },
      "execution_count": 70,
      "outputs": [
        {
          "output_type": "stream",
          "name": "stdout",
          "text": [
            "a\n",
            "d\n"
          ]
        }
      ]
    }
  ]
}