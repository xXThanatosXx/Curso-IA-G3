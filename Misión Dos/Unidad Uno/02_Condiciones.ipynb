{
  "cells": [
    {
      "cell_type": "code",
      "execution_count": 44,
      "metadata": {
        "colab": {
          "base_uri": "https://localhost:8080/"
        },
        "id": "AaVJqtloblbK",
        "outputId": "2c3d131f-e351-4d5c-a6a2-84e42cb3f7c0"
      },
      "outputs": [
        {
          "name": "stdout",
          "output_type": "stream",
          "text": [
            "Esta es mi edad 30 y mi año de nacimiento es 1990\n",
            "Esta es mi edad 30 y mi año de nacimiento es 1990, y mi hermana tiene 22 años\n",
            "Esta es mi edad 40 y mi año de nacimiento es 1990 y mi nombre es Andres\n",
            "Esta es mi edad 30 y mi año de nacimiento es 1990\n"
          ]
        }
      ],
      "source": [
        "#Cadena de texto (string)\n",
        "my_string = \"Este es un texto\"\n",
        "edad = 30\n",
        "año = 1990\n",
        "edadH = 22\n",
        "Enrique = 40\n",
        "nombre = \"Andres\"\n",
        "\n",
        "#Formateo de texto largo\n",
        "print(\"Esta es mi edad {} y mi año de nacimiento es {}\".format(edad,año))\n",
        "#Formateo de texto corto\n",
        "print(f\"Esta es mi edad {edad} y mi año de nacimiento es {año}, y mi hermana tiene {edadH} años\")\n",
        "#Formato tres por tipo de dato enteros(%d), flotantes(%f), texto(%s)\n",
        "print(f\"Esta es mi edad %d y mi año de nacimiento es %d y mi nombre es %s\"%(Enrique,año,nombre))\n",
        "# print(f\"Esta es mi edad %d y mi año de nacimiento es %d y mi nombre es %s\"%(nombre,edad,año))\n",
        "print(\"Esta es mi edad {} y mi año de nacimiento es {}\".format(edad,año))"
      ]
    },
    {
      "cell_type": "markdown",
      "metadata": {
        "id": "TkgPVaqyktU5"
      },
      "source": [
        "# Condicionales"
      ]
    },
    {
      "cell_type": "code",
      "execution_count": 56,
      "metadata": {
        "colab": {
          "base_uri": "https://localhost:8080/"
        },
        "id": "wJeJWahYk299",
        "outputId": "764a7e9c-8c62-4c0c-cb15-8cfe8a37b5d7"
      },
      "outputs": [
        {
          "name": "stdout",
          "output_type": "stream",
          "text": [
            "Digite su edad: 0\n",
            "Deacuerdo a tu edad eres joven\n",
            "este es otro texto\n",
            "10\n",
            "la edad que ingreso es: 0\n",
            "////\n"
          ]
        }
      ],
      "source": [
        "# Definir el tipo dato entero(int), flotante (float)\n",
        "edad = int(input(\"Digite su edad: \"))\n",
        "if edad >= 0 and edad <=20:\n",
        "  print(\"Deacuerdo a tu edad eres joven\")\n",
        "  print(\"este es otro texto\")\n",
        "  suma = edad+10\n",
        "  print(suma)\n",
        "\n",
        "print(\"la edad que ingreso es: %d\"%(edad))\n",
        "print(\"/\"*4)\n"
      ]
    },
    {
      "cell_type": "code",
      "execution_count": 64,
      "metadata": {
        "colab": {
          "base_uri": "https://localhost:8080/"
        },
        "id": "laJQpSMsx5de",
        "outputId": "d69725eb-ae34-46cb-a399-ebd72d4b4f64"
      },
      "outputs": [
        {
          "name": "stdout",
          "output_type": "stream",
          "text": [
            "Digite su edad en años: 14\n",
            "Deacuerdo a tu edad eres menor de edad\n",
            "____________________\n"
          ]
        }
      ],
      "source": [
        "edad = int(input(\"Digite su edad en años: \"))\n",
        "if edad >= 1 and edad <= 17:\n",
        "  print(\"Deacuerdo a tu edad eres menor de edad\")\n",
        "else:\n",
        "  print(\"eres mayor de Edad\")\n",
        "  print(\"este es otro texto\")\n",
        "\n",
        "print(\"_\"*20)"
      ]
    },
    {
      "cell_type": "code",
      "execution_count": null,
      "metadata": {
        "id": "vzOIOcbAz9yv"
      },
      "outputs": [],
      "source": []
    },
    {
      "cell_type": "code",
      "execution_count": 68,
      "metadata": {
        "colab": {
          "base_uri": "https://localhost:8080/"
        },
        "id": "HpCIevQmz6EM",
        "outputId": "9aa7b6f9-ca0b-4caf-be56-da7e46f7aa97"
      },
      "outputs": [
        {
          "name": "stdout",
          "output_type": "stream",
          "text": [
            "Digite su edad en años: 20\n",
            "<class 'str'>\n",
            "eres mayor de Edad\n",
            "este es otro texto\n",
            "____________________\n"
          ]
        }
      ],
      "source": [
        "edad = input(\"Digite su edad en años: \")\n",
        "print(type(edad))\n",
        "\n",
        "if edad >= \"1\" and edad <= \"17\":\n",
        "  print(\"Deacuerdo a tu edad eres menor de edad\")\n",
        "else:\n",
        "  print(\"eres mayor de Edad\")\n",
        "  print(\"este es otro texto\")\n",
        "\n",
        "print(\"_\"*20)\n",
        "\n",
        "\n"
      ]
    },
    {
      "cell_type": "markdown",
      "metadata": {},
      "source": [
        "## Funciones en Python\n",
        "\n",
        "Las funciones en Python son bloques de código reutilizables que realizan una tarea específica. Permiten modularizar el código y mejorar la legibilidad y mantenibilidad.\n",
        "\n",
        "```python\n",
        "def nombre_funcion(parametros):\n",
        "    # Cuerpo de la función\n",
        "    return valor\n",
        "\n",
        "```\n"
      ]
    },
    {
      "cell_type": "markdown",
      "metadata": {},
      "source": [
        "Ejemplo:"
      ]
    },
    {
      "cell_type": "code",
      "execution_count": null,
      "metadata": {},
      "outputs": [],
      "source": [
        "def suma(a, b):\n",
        "    return a + b\n",
        "\n",
        "resultado = suma(5, 3)\n",
        "print(resultado)  # Salida: 8\n"
      ]
    },
    {
      "cell_type": "markdown",
      "metadata": {},
      "source": [
        "- Funciones anónimas (lambdas):"
      ]
    },
    {
      "cell_type": "code",
      "execution_count": null,
      "metadata": {},
      "outputs": [],
      "source": [
        "suma = lambda a, b: a + b\n",
        "print(suma(5, 3))  # Salida: 8\n",
        "\n"
      ]
    },
    {
      "cell_type": "markdown",
      "metadata": {},
      "source": [
        "## Módulos\n",
        "Un módulo en Python es un archivo que contiene definiciones de funciones, variables y clases que puedes importar y usar en otros programas. Permiten organizar el código en partes más manejables."
      ]
    },
    {
      "cell_type": "markdown",
      "metadata": {},
      "source": [
        "Creación de un módulo (archivo mimodulo.py):"
      ]
    },
    {
      "cell_type": "code",
      "execution_count": null,
      "metadata": {},
      "outputs": [],
      "source": [
        "def saludar(nombre):\n",
        "    return f\"Hola, {nombre}!\"\n"
      ]
    },
    {
      "cell_type": "markdown",
      "metadata": {},
      "source": [
        "- Importar y usar un módulo:"
      ]
    },
    {
      "cell_type": "code",
      "execution_count": null,
      "metadata": {},
      "outputs": [],
      "source": [
        "import mimodulo\n",
        "\n",
        "mensaje = mimodulo.saludar(\"Juan\")\n",
        "print(mensaje)  # Salida: Hola, Juan!\n"
      ]
    },
    {
      "cell_type": "markdown",
      "metadata": {},
      "source": [
        "- Importar funciones específicas de un módulo:"
      ]
    },
    {
      "cell_type": "code",
      "execution_count": null,
      "metadata": {},
      "outputs": [],
      "source": [
        "from mimodulo import saludar\n",
        "\n",
        "mensaje = saludar(\"Juan\")\n",
        "print(mensaje)  # Salida: Hola, Juan!\n"
      ]
    },
    {
      "cell_type": "markdown",
      "metadata": {},
      "source": [
        "- Módulos estándar de Python:"
      ]
    },
    {
      "cell_type": "code",
      "execution_count": null,
      "metadata": {},
      "outputs": [],
      "source": [
        "import math\n",
        "\n",
        "print(math.sqrt(16))  # Salida: 4.0\n"
      ]
    },
    {
      "cell_type": "code",
      "execution_count": 1,
      "metadata": {},
      "outputs": [
        {
          "name": "stdout",
          "output_type": "stream",
          "text": [
            "10\n"
          ]
        }
      ],
      "source": [
        "def multiplicar(numero): \n",
        "\tnumero *= 2 \n",
        "\n",
        "n = 10 \n",
        "multiplicar(n) \n",
        "print(n)\n"
      ]
    },
    {
      "cell_type": "code",
      "execution_count": 2,
      "metadata": {},
      "outputs": [
        {
          "name": "stdout",
          "output_type": "stream",
          "text": [
            "4\n"
          ]
        }
      ],
      "source": [
        "def operacion(ns): \n",
        "\t\n",
        "\t\treturn ns-1 \n",
        "\n",
        "ns = 5\n",
        "ns=operacion(ns) \n",
        "print(ns)\n"
      ]
    },
    {
      "cell_type": "markdown",
      "metadata": {},
      "source": [
        "- Para modificar los tipos simples podemos devolverlos modificados y reasignarlos:\n"
      ]
    },
    {
      "cell_type": "code",
      "execution_count": 3,
      "metadata": {},
      "outputs": [
        {
          "name": "stdout",
          "output_type": "stream",
          "text": [
            "20\n"
          ]
        }
      ],
      "source": [
        "def multiplicar(numero):\n",
        "\treturn numero * 2 \n",
        "\n",
        "n = 10 \n",
        "n = multiplicar(n) \n",
        "print(n)\n"
      ]
    },
    {
      "cell_type": "markdown",
      "metadata": {},
      "source": [
        "- Y en el caso de los tipos compuestos, podemos evitar la modificación enviando una copia:\n"
      ]
    },
    {
      "cell_type": "code",
      "execution_count": 6,
      "metadata": {},
      "outputs": [
        {
          "name": "stdout",
          "output_type": "stream",
          "text": [
            "[10, 50, 100]\n"
          ]
        }
      ],
      "source": [
        "def multiplicar(numeros): \n",
        "\tfor i,n in enumerate(numeros): \n",
        "\t\tnumeros[i] *= 2 \n",
        "ns = [10,50,100]\n",
        "multiplicar(ns[:]) #  copia de la lista con [:] \n",
        "print(ns)\n"
      ]
    },
    {
      "cell_type": "markdown",
      "metadata": {},
      "source": [
        "## Argumentos indeterminados\n",
        "\n",
        "- Por posición\n",
        "Para recibir un número indeterminado de parámetros por posición, debemos crear una lista dinámica de argumentos (una tupla en realidad) definiendo el parámetro con un asterisco"
      ]
    },
    {
      "cell_type": "code",
      "execution_count": 7,
      "metadata": {},
      "outputs": [
        {
          "name": "stdout",
          "output_type": "stream",
          "text": [
            "5\n",
            "Hola\n",
            "[1, 2, 3, 4, 5]\n"
          ]
        }
      ],
      "source": [
        "def indeterminados_posicion(*args): \n",
        "    for arg in args:\n",
        "        print(arg)\n",
        "\n",
        "indeterminados_posicion(5,\"Hola\",[1,2,3,4,5])"
      ]
    },
    {
      "cell_type": "markdown",
      "metadata": {},
      "source": [
        "- Por nombre\n",
        "Para recibir un número indeterminado de parámetros por nombre (clave-valor o en inglés keyword args), debemos crear un diccionario dinámico de argumentos definiendo el parámetro con dos asteriscos:\n"
      ]
    },
    {
      "cell_type": "code",
      "execution_count": 8,
      "metadata": {},
      "outputs": [
        {
          "name": "stdout",
          "output_type": "stream",
          "text": [
            "{'n': 5, 'c': 'Hola', 'l': [1, 2, 3, 4, 5]}\n"
          ]
        }
      ],
      "source": [
        "def indeterminados_nombre(**kwargs): \n",
        "\tprint(kwargs) \n",
        "indeterminados_nombre(n=5, c=\"Hola\", l=[1,2,3,4,5]) \n"
      ]
    },
    {
      "cell_type": "markdown",
      "metadata": {},
      "source": [
        "- Al recibirse como un diccionario, podemos iterarlo y mostrar la clave y valor de cada argumento:\n"
      ]
    },
    {
      "cell_type": "code",
      "execution_count": 9,
      "metadata": {},
      "outputs": [
        {
          "name": "stdout",
          "output_type": "stream",
          "text": [
            "n => 5\n",
            "c => Hola\n",
            "l => [1, 2, 3, 4, 5]\n"
          ]
        }
      ],
      "source": [
        "def indeterminados_nombre(**kwargs): \n",
        "\tfor kwarg in kwargs: \n",
        "\t\tprint(kwarg, \"=>\", kwargs[kwarg])\n",
        "\n",
        "indeterminados_nombre(n=5, c=\"Hola\", l=[1,2,3,4,5]) \n"
      ]
    },
    {
      "cell_type": "markdown",
      "metadata": {},
      "source": [
        "- Por posición y nombre\n",
        "Si queremos aceptar ambos tipos de parámetros simultáneamente, entonces debemos crear ambas colecciones dinámicas. Primero los argumentos indeterminados por valor y luego los que son por clave y valor:\n"
      ]
    },
    {
      "cell_type": "code",
      "execution_count": null,
      "metadata": {},
      "outputs": [],
      "source": [
        "def super_funcion(*args,**kwargs): \n",
        "\ttotal = 0 \n",
        "\tfor arg in args: \n",
        "\t\ttotal += arg \n",
        "\tprint(\"sumatorio => \", total) \n",
        "\tfor kwarg in kwargs:\n",
        "\t\t print(kwarg, \"=>\", kwargs[kwarg]) \n",
        "\n",
        "super_funcion(10, 50, -1, 1.56, 10, 20, 300, nombre=\"Hector\", edad=27)\n"
      ]
    },
    {
      "cell_type": "markdown",
      "metadata": {},
      "source": [
        "# Manejo de errores y excepciones"
      ]
    },
    {
      "cell_type": "markdown",
      "metadata": {},
      "source": [
        "El manejo de excepciones en Python permite gestionar errores de manera controlada sin que el programa se detenga abruptamente. Utiliza bloques try, except, else y finally."
      ]
    },
    {
      "cell_type": "markdown",
      "metadata": {},
      "source": [
        "- Errores de sintaxis\n"
      ]
    },
    {
      "cell_type": "code",
      "execution_count": null,
      "metadata": {},
      "outputs": [],
      "source": [
        "print(\"Hi\""
      ]
    },
    {
      "cell_type": "markdown",
      "metadata": {},
      "source": [
        "- Errores de nombre"
      ]
    },
    {
      "cell_type": "code",
      "execution_count": null,
      "metadata": {},
      "outputs": [],
      "source": [
        "pint(\"Hola\")\n"
      ]
    },
    {
      "cell_type": "markdown",
      "metadata": {},
      "source": [
        "- Errores semánticos"
      ]
    },
    {
      "cell_type": "code",
      "execution_count": null,
      "metadata": {},
      "outputs": [],
      "source": [
        "l = []\n",
        "l.pop()\n"
      ]
    },
    {
      "cell_type": "markdown",
      "metadata": {},
      "source": [
        "Para prevenir el error deberíamos comprobar que una lista tenga como mínimo un elemento antes de intentar sacarlo, algo factible utilizando la función len():\n"
      ]
    },
    {
      "cell_type": "code",
      "execution_count": null,
      "metadata": {},
      "outputs": [],
      "source": [
        "l = [ ] \n",
        "if len(l) > 0: \n",
        "\tl.pop()\n"
      ]
    },
    {
      "cell_type": "markdown",
      "metadata": {},
      "source": [
        "### Ejemplo lectura de cadena y operación sin conversión a número\n"
      ]
    },
    {
      "cell_type": "code",
      "execution_count": null,
      "metadata": {},
      "outputs": [],
      "source": [
        "n = input(\"Introduce un número: \") \n",
        "print(\"{}/{} = {}\".format(n,m,n/m))\n"
      ]
    },
    {
      "cell_type": "markdown",
      "metadata": {},
      "source": [
        "- solución: transformando la cadena a entero o flotante"
      ]
    },
    {
      "cell_type": "code",
      "execution_count": null,
      "metadata": {},
      "outputs": [],
      "source": [
        "n = float(input(\"Introduce un número: \")) \n",
        "m = 4 \n",
        "print(\"{}/{} = {}\".format(n,m,n/m))\n",
        "\n"
      ]
    },
    {
      "cell_type": "markdown",
      "metadata": {},
      "source": [
        "## uso de Try except"
      ]
    },
    {
      "cell_type": "code",
      "execution_count": 11,
      "metadata": {},
      "outputs": [
        {
          "name": "stdout",
          "output_type": "stream",
          "text": [
            "Ha ocurrido un error, solo puedes introducir números \n",
            "5.0/4 = 1.25\n"
          ]
        }
      ],
      "source": [
        "while(True): \n",
        "\ttry:\n",
        "\t\tn = float(input(\"Introduce un número: \"))\n",
        "\t\tm = 4 \n",
        "\t\tprint(\"{}/{} = {}\".format(n,m,n/m)) \n",
        "\t\tbreak # Importante romper la iteración si todo ha salido bien \t\n",
        "\texcept:\n",
        "\t\tprint(\"Ha ocurrido un error, solo puedes introducir números \")\n",
        "\n"
      ]
    },
    {
      "cell_type": "markdown",
      "metadata": {},
      "source": [
        "## Uso de bloque else\n"
      ]
    },
    {
      "cell_type": "code",
      "execution_count": 13,
      "metadata": {},
      "outputs": [
        {
          "name": "stdout",
          "output_type": "stream",
          "text": [
            "Ha ocurrido un error, introduce bien el número\n",
            "45.0/4 = 11.25\n",
            "Todo ha funcionado correctamente\n"
          ]
        }
      ],
      "source": [
        "while(True):\n",
        "\ttry: \n",
        "\t\tn = float(input(\"Introduce un número: \"))\n",
        "\t\tm = 4\n",
        "\t\tprint(\"{}/{} = {}\".format(n,m,n/m)) \n",
        "\texcept:\n",
        "\t\tprint(\"Ha ocurrido un error, introduce bien el número\") \n",
        "\telse:\n",
        "\t\tprint(\"Todo ha funcionado correctamente\") \n",
        "\t\tbreak # Importante romper la iteración si todo ha salido "
      ]
    },
    {
      "cell_type": "markdown",
      "metadata": {},
      "source": [
        "## Uso de Finally\n"
      ]
    },
    {
      "cell_type": "code",
      "execution_count": 17,
      "metadata": {},
      "outputs": [
        {
          "name": "stdout",
          "output_type": "stream",
          "text": [
            "Ha ocurrido un error, introduce bien el número\n",
            "Fin de la iteración\n",
            "0.0/4 = 0.0\n",
            "Todo ha funcionado correctamente\n",
            "Fin de la iteración\n"
          ]
        }
      ],
      "source": [
        "while(True): \n",
        "\ttry: \n",
        "\t\tn = float(input(\"Introduce un número: \")) \n",
        "\t\tm = 4 \n",
        "\t\tprint(\"{}/{} = {}\".format(n,m,n/m))\n",
        "\texcept:\n",
        "\t\tprint(\"Ha ocurrido un error, introduce bien el número\")\n",
        "\telse:\n",
        "\t\tprint(\"Todo ha funcionado correctamente\") \n",
        "\t\tbreak # Importante romper la iteración si todo ha salido bien \t\n",
        "\tfinally: \n",
        "\t\tprint(\"Fin de la iteración\") # Siempre se ejecuta\n"
      ]
    },
    {
      "cell_type": "markdown",
      "metadata": {},
      "source": [
        "- Sintaxis básica:\n",
        "\n",
        "```python\n",
        "try:\n",
        "    # Código que puede causar una excepción\n",
        "    resultado = 10 / 0\n",
        "except ZeroDivisionError as e:\n",
        "    # Código que se ejecuta si ocurre una excepción\n",
        "    print(f\"Error: {e}\")\n",
        "else:\n",
        "    # Código que se ejecuta si no ocurre ninguna excepción\n",
        "    print(\"Operación exitosa\")\n",
        "finally:\n",
        "    # Código que se ejecuta siempre, ocurra o no una excepción\n",
        "    print(\"Operación finalizada\")\n",
        "```\n"
      ]
    },
    {
      "cell_type": "markdown",
      "metadata": {},
      "source": [
        "Ejemplo:"
      ]
    },
    {
      "cell_type": "code",
      "execution_count": null,
      "metadata": {},
      "outputs": [],
      "source": [
        "try:\n",
        "    numero = int(input(\"Ingresa un número: \"))\n",
        "    resultado = 10 / numero\n",
        "except ValueError:\n",
        "    print(\"Debes ingresar un número válido\")\n",
        "except ZeroDivisionError:\n",
        "    print(\"No se puede dividir entre cero\")\n",
        "else:\n",
        "    print(f\"Resultado: {resultado}\")\n",
        "finally:\n",
        "    print(\"Fin del programa\")\n"
      ]
    }
  ],
  "metadata": {
    "colab": {
      "provenance": []
    },
    "kernelspec": {
      "display_name": "Python 3",
      "name": "python3"
    },
    "language_info": {
      "codemirror_mode": {
        "name": "ipython",
        "version": 3
      },
      "file_extension": ".py",
      "mimetype": "text/x-python",
      "name": "python",
      "nbconvert_exporter": "python",
      "pygments_lexer": "ipython3",
      "version": "3.9.6"
    }
  },
  "nbformat": 4,
  "nbformat_minor": 0
}
