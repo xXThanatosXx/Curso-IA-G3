{
  "cells": [
    {
      "cell_type": "code",
      "execution_count": 1,
      "metadata": {
        "colab": {
          "base_uri": "https://localhost:8080/",
          "height": 35
        },
        "id": "aT3vvIDj47Zp",
        "outputId": "06b9a75f-03b4-4973-a6bd-6ca00e954561"
      },
      "outputs": [
        {
          "name": "stdout",
          "output_type": "stream",
          "text": [
            "Datos guardados en products.csv\n"
          ]
        },
        {
          "data": {
            "application/javascript": "\n    async function download(id, filename, size) {\n      if (!google.colab.kernel.accessAllowed) {\n        return;\n      }\n      const div = document.createElement('div');\n      const label = document.createElement('label');\n      label.textContent = `Downloading \"${filename}\": `;\n      div.appendChild(label);\n      const progress = document.createElement('progress');\n      progress.max = size;\n      div.appendChild(progress);\n      document.body.appendChild(div);\n\n      const buffers = [];\n      let downloaded = 0;\n\n      const channel = await google.colab.kernel.comms.open(id);\n      // Send a message to notify the kernel that we're ready.\n      channel.send({})\n\n      for await (const message of channel.messages) {\n        // Send a message to notify the kernel that we're ready.\n        channel.send({})\n        if (message.buffers) {\n          for (const buffer of message.buffers) {\n            buffers.push(buffer);\n            downloaded += buffer.byteLength;\n            progress.value = downloaded;\n          }\n        }\n      }\n      const blob = new Blob(buffers, {type: 'application/binary'});\n      const a = document.createElement('a');\n      a.href = window.URL.createObjectURL(blob);\n      a.download = filename;\n      div.appendChild(a);\n      a.click();\n      div.remove();\n    }\n  ",
            "text/plain": [
              "<IPython.core.display.Javascript object>"
            ]
          },
          "metadata": {},
          "output_type": "display_data"
        },
        {
          "data": {
            "application/javascript": "download(\"download_e7b4f9c6-af5e-41bb-8516-4dc194a30da5\", \"products.csv\", 667)",
            "text/plain": [
              "<IPython.core.display.Javascript object>"
            ]
          },
          "metadata": {},
          "output_type": "display_data"
        }
      ],
      "source": [
        "import requests\n",
        "from bs4 import BeautifulSoup\n",
        "import csv\n",
        "from google.colab import files\n",
        "\n",
        "# URL del sitio web que queremos scrapear\n",
        "url = \"https://perfumesreal.com/\"  # Reemplaza con la URL real\n",
        "\n",
        "# Hacer la solicitud GET\n",
        "response = requests.get(url)\n",
        "\n",
        "# Verificar el código de estado\n",
        "if response.status_code == 200:\n",
        "    page_content = response.text\n",
        "\n",
        "    # Parsear el contenido HTML\n",
        "    soup = BeautifulSoup(page_content, 'html.parser')\n",
        "\n",
        "    # Encontrar y extraer los títulos de los productos\n",
        "    product_elements = soup.find_all('div', class_='t4s-product-info')\n",
        "    products = []\n",
        "\n",
        "    for product_element in product_elements:\n",
        "        title_element = product_element.find('h3', class_='t4s-product-title')\n",
        "        price_element = product_element.find('div', class_='t4s-product-price')\n",
        "\n",
        "        if title_element and price_element:\n",
        "            title = title_element.get_text(strip=True)\n",
        "            price = price_element.get_text(strip=True)\n",
        "            products.append({'Title': title, 'Price': price})\n",
        "\n",
        "    # Guardar los productos en un archivo CSV\n",
        "    csv_filename = 'products.csv'\n",
        "    with open(csv_filename, 'w', newline='') as file:\n",
        "        writer = csv.DictWriter(file, fieldnames=['Title', 'Price'])\n",
        "        writer.writeheader()\n",
        "        for product in products:\n",
        "            writer.writerow(product)\n",
        "\n",
        "    print(\"Datos guardados en products.csv\")\n",
        "\n",
        "    # Descargar el archivo CSV en Colab\n",
        "    files.download(csv_filename)\n",
        "else:\n",
        "    print(f\"Error: {response.status_code}\")\n"
      ]
    }
  ],
  "metadata": {
    "colab": {
      "provenance": []
    },
    "kernelspec": {
      "display_name": "Python 3",
      "name": "python3"
    },
    "language_info": {
      "name": "python"
    }
  },
  "nbformat": 4,
  "nbformat_minor": 0
}
